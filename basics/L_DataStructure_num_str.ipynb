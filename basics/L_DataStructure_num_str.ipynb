{
 "cells": [
  {
   "cell_type": "markdown",
   "metadata": {},
   "source": [
    "# Python中的数据结构（一）\n",
    "Python中常见的数据结构有六种，包括：Number(数值), String(字符串), List(列表), Tuple(元组), Dictionary(字典), Set(集合)\n",
    "\n",
    "|      | 有序 | 无序 |\n",
    "| ---- | ---- | ---- |\n",
    "| 可变 | List | Dictionary, Set |\n",
    "| 不可变 | String, Tuple | Number|\n",
    "\n",
    "## 1.Number 与 String"
   ]
  },
  {
   "cell_type": "code",
   "execution_count": 14,
   "metadata": {},
   "outputs": [
    {
     "name": "stdout",
     "output_type": "stream",
     "text": [
      "4\n",
      "-2\n",
      "3\n",
      "0.3333333333333333\n",
      "1\n",
      "0\n",
      "id a =  0x22bf00b00f0\n",
      "id a =  0x22bf00b0150\n"
     ]
    }
   ],
   "source": [
    "# Python3 - Number(数值): int, float, bool, complex(复数)\n",
    "a = 1\n",
    "b = 3\n",
    "print(a + b)    #a加b\n",
    "print(a - b)    #a减b\n",
    "print(a * b)    #a乘以b\n",
    "print(a / b)    #a除以b\n",
    "print(a % b)    #取余\n",
    "print(a // b)   #取整\n",
    "print('id a = ',hex(id(a)))                         # 查看变量a的内存地址\n",
    "a = a + b\n",
    "print('id a = ',hex(id(a)))                         # 再次查看变量a的内存地址，此时的a与之前的a的地址不同了，说明已经不是一个a了，数值是不可改变的数据类型 \n"
   ]
  },
  {
   "cell_type": "code",
   "execution_count": 13,
   "metadata": {},
   "outputs": [
    {
     "name": "stdout",
     "output_type": "stream",
     "text": [
      "Hello, I'm apostrophe!\n",
      "Hello, I'm Double quotes!\n",
      "Hello \n",
      "I'm\n",
      "Three quotes!\n",
      "\n",
      "Hello,\n",
      "I'm apostrophe!\n",
      "Hello \\n\\t\\d \\World!\n",
      "print the third letter is  c\n",
      "abcdefg\thijklmn\n",
      "abcdefg\tabcdefg\tabcdefg\t\n",
      "id a =  0x22bf4e173f0\n",
      "a =  cbacbA\n",
      "id a =  0x22bf4e17370\n",
      "b =  cbA\n"
     ]
    }
   ],
   "source": [
    "# Python3 - String(字符串): 字符的有序序列，可以进行“+”和“*”操作；是不可变数据类型。\n",
    "print('Hello, I\\'m apostrophe!')                    # \"\\\"为转义符\n",
    "print(\"Hello, I\\'m Double quotes!\")                 # 双引号与单引号的功能一致\n",
    "str = '''Hello \n",
    "I\\'m\n",
    "Three quotes!\n",
    "'''\n",
    "print(str)                                          # 三个单引号的方式可以跨行\n",
    "print('Hello,\\nI\\'m apostrophe!')                   # \\n为转义符回车,\\r\\n 也可以一起用，表示键盘上的回车键\n",
    "print(r'Hello \\n\\t\\d \\World!')                      # 字符转换为原始字符串，其字符串内部不会转义\n",
    "\n",
    "letter1 = 'abcdefg\\t'                               # \\t表示键盘上的“TAB”键\n",
    "print('print the third letter is ',letter1[2])      # 字符串是有序的序列\n",
    "letter2 = \"hijklmn\\r\"                               # \\r为转义符空格\n",
    "letter3 = letter1 + letter2                         # 字符串+（拼接）\n",
    "print(letter3)\n",
    "print(letter1 * 3)                                  # 字符串*（重复）\n",
    "\n",
    "# 字符串是不变对象\n",
    "a = 'cba'\n",
    "b = a.replace('a', 'A')                             # 字符串a不会改变，只会根据a替换后的结果赋值给b\n",
    "print('id a = ',hex(id(a)))                         # 查看变量a的内存地址\n",
    "a = a + b                                           # 这里的a已经不是原来的a了\n",
    "print(\"a = \", a)                    \n",
    "print('id a = ',hex(id(a)))                         # 再次查看变量a的内存地址，此时的a与之前的a的地址不同了，说明已经不是一个a了，字符串是不可改变的数据类型           \n",
    "print(\"b = \", b)"
   ]
  },
  {
   "cell_type": "code",
   "execution_count": 2,
   "metadata": {},
   "outputs": [
    {
     "name": "stdout",
     "output_type": "stream",
     "text": [
      "[\"I'm beg\", 'nner ', 'n the Python language.']\n",
      "I'm advanced in the Python language.\n",
      "i'm beginner in the python language.\n",
      "I'M BEGINNER IN THE PYTHON LANGUAGE.\n",
      "-I'm beginner in the Python language.-\n",
      "h--u--a--w--e--i\n",
      "My name is AI, age is 18\n"
     ]
    }
   ],
   "source": [
    "# 字符串常用操作\n",
    "str = 'I\\'m beginner in the Python language.'\n",
    "print(str.split('i'))                               #分割字符串，找到所有i，并分割为多个字符串\n",
    "print(str.replace('beginner', 'advanced'))          #替换字符串中的内容\n",
    "print(str.lower())                                  #转化为大写\n",
    "print(str.upper())                                  #转化为小写\n",
    "print(str.join('--'))                               #拼接，将join函数的参数(括号里面的字符串)中的每个元素以指定的字符连接生成新的字符串\n",
    "print('--'.join('huawei'))                          #拼接，即将join函数的参数逐字符拆分，再用函数前面的字符去逐一拼接\n",
    "print('My name is %s, age is %d' %('AI',18))        #格式化操作符%"
   ]
  }
 ],
 "metadata": {
  "kernelspec": {
   "display_name": "ia_env",
   "language": "python",
   "name": "python3"
  },
  "language_info": {
   "codemirror_mode": {
    "name": "ipython",
    "version": 3
   },
   "file_extension": ".py",
   "mimetype": "text/x-python",
   "name": "python",
   "nbconvert_exporter": "python",
   "pygments_lexer": "ipython3",
   "version": "3.10.13"
  }
 },
 "nbformat": 4,
 "nbformat_minor": 2
}

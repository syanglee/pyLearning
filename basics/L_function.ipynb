{
 "cells": [
  {
   "cell_type": "markdown",
   "metadata": {},
   "source": [
    "# 函数\n",
    "优点：重复使用、易于维护、特定功能、模块性、可读性\n",
    "\n",
    "## 1.函数的定义\n",
    "1. 关键字def声明函数 def function_name(parameters): \n",
    "2. 函数说明  #函数说明 '''函数说明文档'''\n",
    "3. 语句块缩进\n",
    "4. return返回值\n",
    "5. 匿名函数lambda\n",
    "6. 函数调用\n",
    "\n",
    "```python\n",
    "def function_name(parameters):\n",
    "    # 函数说明\n",
    "    '''函数说明文档'''\n",
    "    return [expression]\n",
    "```\n"
   ]
  },
  {
   "cell_type": "code",
   "execution_count": 1,
   "metadata": {},
   "outputs": [
    {
     "name": "stdout",
     "output_type": "stream",
     "text": [
      "[2, 4, 6, 8, 10]\n"
     ]
    }
   ],
   "source": [
    "# 找到数组中的所有偶数，并返回。\n",
    "def getEvenNumbers(nums):\n",
    "    result  = []\n",
    "    for num in nums:\n",
    "        if num % 2 == 0:\n",
    "            result.append(num)\n",
    "        else:\n",
    "            continue\n",
    "    return result\n",
    "\n",
    "print(getEvenNumbers([1,2,3,4,5,6,7,8,9,10]))"
   ]
  },
  {
   "cell_type": "markdown",
   "metadata": {},
   "source": [
    "## 2.匿名函数 lambda\n",
    "\n",
    "lambda 函数的语法只包含一个语句，表现形式如下：\n",
    "lambda [arg1 [,arg2,.....argn]]:expression\n",
    "其中，lambda 是 Python 预留的关键字，[arg…] 和 expression 由用户自定义。\n",
    "具体介绍如下:\n",
    "[arg…] 是参数列表，它的结构与 Python 中函数(function)的参数列表是一样的。\n",
    "\n",
    "### 2.1. lambda 的特性\n",
    " - [1] **lambda函数是匿名的** ： \n",
    " 所谓匿名函数，通俗地说就是没有名字的函数。lambda函数没有名字。\n",
    " - [2] **lambda函数有输入和输出** ：  \n",
    " 输入是传入到参数列表argument_list的值，输出是根据表达式expression计算得到的值。\n",
    " - [3] **lambda函数拥有自己的命名空间** ： \n",
    " 不能访问自己参数列表之外或全局命名空间里的参数，只能完成非常简单的功能。\n",
    "\n",
    " ### 2.2. lambda 常见用法\n",
    " - [4] **将lambda函数赋值给一个变量，通过这个变量间接调用该lambda函数**\n",
    " - [5] **将lambda函数赋值给其他函数，从而将其他函数用该lambda函数替换**\n",
    " - [6] **将lambda函数作为参数传递给其他函数**"
   ]
  },
  {
   "cell_type": "code",
   "execution_count": 19,
   "metadata": {},
   "outputs": [
    {
     "name": "stdout",
     "output_type": "stream",
     "text": [
      "add(2, 5) =  7\n",
      "time.sleep()执行时间为： 0.0 秒\n",
      "通过lambda替换函数后，time.sleep()执行时间为： 0.0 秒\n"
     ]
    }
   ],
   "source": [
    "# 匿名函数 lambda\n",
    "lambda x, y: x*y\t\t\t# 函数输入是x和y，输出是它们的积x*y\n",
    "lambda:None\t\t\t\t\t# 函数没有输入参数，输出是None\n",
    "lambda *args: sum(args)\t\t# 输入是任意个数参数，输出是它们的和(隐性要求输入参数必须能进行算术运算)\n",
    "lambda **kwargs: 1\t\t\t# 输入是任意键值对参数，输出是1\n",
    "\n",
    "# [4] 将lambda函数赋值给一个变量，通过这个变量间接调用该lambda函数\n",
    "add = lambda x, y: x + y    # 相当于定义了加法函数lambda x, y: x+y，并将其赋值给变量add，这样变量add就指向了具有加法功能的函数。\n",
    "print('add(2, 5) = ', add(2, 5))    \n",
    "\n",
    "import time\n",
    "\n",
    "# [5] 将lambda函数赋值给其他函数，从而将其他函数用该lambda函数替换。\n",
    "time.sleep = lambda x:None  # 通过这个方法把标准库time中的函数sleep的功能屏蔽掉了\n",
    "start_time=time.time()\n",
    "time.sleep(3)               # 程序不会休眠 3 秒钟，而是因为lambda输出为None，所以这里结果是什么都不做\n",
    "print(\"通过lambda替换函数后，time.sleep()执行时间为： %s 秒\" %(time.time() - start_time))"
   ]
  },
  {
   "cell_type": "code",
   "execution_count": 11,
   "metadata": {},
   "outputs": [
    {
     "name": "stdout",
     "output_type": "stream",
     "text": [
      "Start : 2023-10-16 22:35:36\n",
      "End : 2023-10-16 22:35:39\n",
      "time.sleep() 执行时间为： 3.004403829574585 秒\n"
     ]
    }
   ],
   "source": [
    "import time\n",
    "start_time = time.time()\n",
    "print (\"Start : %s\" % time.strftime(\"%Y-%m-%d %H:%M:%S\",time.localtime(start_time)))\n",
    "time.sleep(3)               # 程序不会休眠 3 秒钟，而是因为lambda输出为None，所以这里结果是什么都不做\n",
    "end_time = time.time()\n",
    "print (\"End : %s\" % time.strftime(\"%Y-%m-%d %H:%M:%S\",time.localtime(end_time)))\n",
    "print(\"time.sleep() 执行时间为： %s 秒\" %(end_time - start_time))"
   ]
  },
  {
   "cell_type": "markdown",
   "metadata": {},
   "source": [
    "### 2.3. lambda 高级用法\n",
    "#### [6.1] map() 函数：\n",
    " **描述：**\n",
    " map() 会根据提供的函数对指定序列做映射。\n",
    " 第一个参数 function 以参数序列中的每一个元素调用 function 函数，返回包含每次 function 函数返回值的新列表。\n",
    "\n",
    " **语法：**\n",
    " map(function, iterable, ...)\n",
    "\n",
    " **参数：**\n",
    "  - function ---> 函数\n",
    "  - iterable ---> 一个或多个序列\n",
    "\n",
    " **返回值：**\n",
    " Python 2.x 版本返回的是列表\n",
    " Python 3.x 版本返回的是迭代器\n"
   ]
  },
  {
   "cell_type": "code",
   "execution_count": 17,
   "metadata": {},
   "outputs": [
    {
     "name": "stdout",
     "output_type": "stream",
     "text": [
      "normal square:  1\n",
      "normal square:  4\n",
      "normal square:  9\n",
      "normal square:  16\n",
      "normal square:  25\n",
      "lambda square:  1\n",
      "lambda square:  4\n",
      "lambda square:  9\n",
      "lambda square:  16\n",
      "lambda square:  25\n",
      "lambda sum:  3\n",
      "lambda sum:  7\n",
      "lambda sum:  11\n",
      "lambda sum:  15\n",
      "lambda sum:  19\n"
     ]
    }
   ],
   "source": [
    "# 常规的计算平方数函数\n",
    "def square(x):\n",
    "    return x * x\n",
    "\n",
    "sqs = map(square, [1,2,3,4,5])\n",
    "for sq in sqs:\n",
    "    print(\"normal square: \", sq)\n",
    "\n",
    "# lambda 方法的计算平方根函数\n",
    "sqs = map(lambda x: x * x, [1,2,3,4,5])\n",
    "for sq in sqs:\n",
    "    print(\"lambda square: \", sq)\n",
    "\n",
    "# 提供两个列表，将其相同索引位置的列表元素进行相加\n",
    "ls = map(lambda x, y : x + y, [1,3,5,7,9], [2,4,6,8,10])\n",
    "for l in ls:\n",
    "    print(\"lambda sum: \",l)"
   ]
  },
  {
   "cell_type": "markdown",
   "metadata": {},
   "source": [
    "#### [6.2] reduce() 函数：\n",
    " **描述：**\n",
    " reduce() 函数会对参数序列中元素进行累积。\n",
    " 函数将一个数据集合（链表，元组等）中的所有数据进行下列操作：用传给 reduce 中的函数 function（有两个参数）先对集合中的第 1、2 个元素进行操作，得到的结果再与第三个数据用 function 函数运算，最后得到一个结果。\n",
    " map(function, iterable, ...)\n",
    "\n",
    " **语法：**\n",
    " reduce(function, iterable[, initializer])\n",
    "\n",
    " **参数：**\n",
    "  - function    ---> 函数，有两个参数\n",
    "  - iterable    ---> 可迭代对象\n",
    "  - initializer ---> 可选，初始参数\n",
    "\n",
    " **返回值：**\n",
    " 返回函数计算结果。\n",
    " "
   ]
  },
  {
   "cell_type": "code",
   "execution_count": 3,
   "metadata": {},
   "outputs": [
    {
     "name": "stdout",
     "output_type": "stream",
     "text": [
      "normal reduce:  25\n",
      "lambda reduce:  25\n",
      "sum([1,3,5,7,9]) =  25\n",
      "lambda reduce:  13579\n"
     ]
    }
   ],
   "source": [
    "# 常规写法\n",
    "from functools import reduce\n",
    "def add(x, y):\n",
    "    return x + y\n",
    "\n",
    "nr = reduce(add, [1,3,5,7,9])\n",
    "print(\"normal reduce: \", nr)\n",
    "\n",
    "'''===========执行步骤解析：===========\n",
    "调用 reduce(add, [1, 3, 5, 7, 9])时，reduce函数将做如下计算：\n",
    "1\t先计算头两个元素：f(1, 3)，结果为4；\n",
    "2\t再把结果和第3个元素计算：f(4, 5)，结果为9；\n",
    "3\t再把结果和第4个元素计算：f(9, 7)，结果为16；\n",
    "4\t再把结果和第5个元素计算：f(16, 9)，结果为25；\n",
    "5\t由于没有更多的元素了，计算结束，返回结果25。'''\n",
    "\n",
    "# lambda 函数写法\n",
    "lr = reduce(lambda x, y: x + y, [1,3,5,7,9])\n",
    "print(\"lambda reduce: \", lr)\n",
    "\n",
    "# 当然求和运算可以直接用Python内建函数sum()，没必要动用reduce。\n",
    "print('sum([1,3,5,7,9]) = ', sum([1,3,5,7,9]))\n",
    "# 如果要把序列 [1, 3, 5, 7, 9] 变换成整数 13579，reduce就可以派上用场：\n",
    "def fn(x, y):\n",
    "    return x * 10 + y\n",
    "\n",
    "r = reduce(fn, [1, 3, 5, 7, 9])\n",
    "print(\"lambda reduce: \", r)"
   ]
  },
  {
   "cell_type": "markdown",
   "metadata": {},
   "source": [
    "### [6.3] sorted() 函数：\n",
    " **描述：**\n",
    " sorted() 函数对所有可迭代的对象进行排序操作。\n",
    " \n",
    " sort与sorted区别：\n",
    " 1. sort是应用在list上的方法，是列表的方法，sorted可以对所有可迭代的对象进行排序操作。\n",
    " 2. list的sort方法返回的是对已经存在的列表进行操作，无返回值；而内建函数sorted方法返回的是一个新的list，而不是在原来的基础上进行操作。\n",
    "\n",
    " **语法：**\n",
    " (python3版)： \n",
    " \n",
    " sorted(iterable，key=None,reverse=False)\n",
    "\n",
    " **参数：**\n",
    "  - iterable  ---> 可迭代对象\n",
    "  - key       ---> 主要是用来进行比较的元素，只有一个参数，具体的函数的参数就是取自于可迭代对象中，指定可迭代对象中的一个元素来进行排序。\n",
    "  - reverse   ---> 是一个布尔值。如果设置为True，列表元素将被倒序排列，默认为False。\n",
    "  \n",
    " **返回值：**\n",
    " 返回重新排序的列表。"
   ]
  },
  {
   "cell_type": "code",
   "execution_count": 10,
   "metadata": {},
   "outputs": [
    {
     "name": "stdout",
     "output_type": "stream",
     "text": [
      "a =  [5, 7, 6, 3, 4, 1, 2]\n",
      "b =  [1, 2, 3, 4, 5, 6, 7]\n",
      "L =  [('b', 2), ('a', 1), ('d', 4), ('c', 3)]\n",
      "sorted(L,key=lambda x:x[1] =  [('a', 1), ('b', 2), ('c', 3), ('d', 4)]\n",
      "students =  [('John', 'A', 15), ('Bob', 'B', 14), ('Davies', 'C', 16)]\n",
      "students.sorted() =  [('Davies', 'C', 16), ('John', 'A', 15), ('Bob', 'B', 14)]\n"
     ]
    }
   ],
   "source": [
    "# 1.简单排序\n",
    "a = [5,7,6,3,4,1,2]\n",
    "b = sorted(a)\n",
    "print('a = ', a)\n",
    "print('b = ', b)\n",
    "\n",
    "# 匿名函数用法\n",
    "L = [('b',2),('a',1),('d',4),('c',3)]\n",
    "print('L = ', L)\n",
    "\n",
    "l = sorted(L, key=lambda x:x[1])    \n",
    "print('sorted(L,key=lambda x:x[1] = ', l)                       # 利用参数 Key 排序\n",
    "\n",
    "students = [('John','A',15),('Bob','B',14),('Davies','C',16)]\n",
    "print('students = ', students) \n",
    "stds = sorted(students, key=lambda s:s[2], reverse = True)      # 按第3项降序排序      \n",
    "print('students.sorted() = ', stds)"
   ]
  },
  {
   "cell_type": "markdown",
   "metadata": {},
   "source": [
    "### [6.4] filter() 函数\n",
    "\n",
    " **描述：**\n",
    " \n",
    " filter() 函数用于过滤序列，过滤掉不符合条件的元素，返回一个迭代器对象，如果要转换为列表，可以使用 list() 来转换。\n",
    "\n",
    " **语法：**\n",
    "\n",
    " filter(function, iterable)\n",
    "\n",
    "**参数：**\n",
    "  - function ---> 判断函数。 \n",
    "  - iterable ---> 可迭代对象。\n",
    "  \n",
    " **返回值：**\n",
    " 返回一个迭代器对象"
   ]
  },
  {
   "cell_type": "code",
   "execution_count": 16,
   "metadata": {},
   "outputs": [
    {
     "name": "stdout",
     "output_type": "stream",
     "text": [
      "list_a =  [1, 2, 3, 4, 5, 6, 7, 8, 9, 10]\n",
      "list_odd =  [1, 3, 5, 7, 9]\n",
      "list_even =  [2, 4, 6, 8, 10]\n"
     ]
    }
   ],
   "source": [
    "list_a = [1, 2, 3, 4, 5, 6, 7, 8, 9, 10]\n",
    "print('list_a = ', list_a)\n",
    "\n",
    "# 常规做法\n",
    "def is_odd(n):\n",
    "    return n % 2 == 1\n",
    "\n",
    "list_odd = filter(is_odd, list_a)\n",
    "print('list_odd = ', list(list_odd))\n",
    "\n",
    "# 匿名函数作为function参数\n",
    "list_even = filter(lambda x: x % 2 == 0, a)\n",
    "\n",
    "print('list_even = ', list(list_even))"
   ]
  }
 ],
 "metadata": {
  "kernelspec": {
   "display_name": "pytorch_env",
   "language": "python",
   "name": "python3"
  },
  "language_info": {
   "codemirror_mode": {
    "name": "ipython",
    "version": 3
   },
   "file_extension": ".py",
   "mimetype": "text/x-python",
   "name": "python",
   "nbconvert_exporter": "python",
   "pygments_lexer": "ipython3",
   "version": "3.10.13"
  },
  "orig_nbformat": 4
 },
 "nbformat": 4,
 "nbformat_minor": 2
}

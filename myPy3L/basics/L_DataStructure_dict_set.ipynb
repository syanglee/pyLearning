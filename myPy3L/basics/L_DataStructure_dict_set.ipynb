{
 "cells": [
  {
   "cell_type": "markdown",
   "metadata": {},
   "source": [
    "# Python中的数据结构（三）\n",
    "Python中常见的数据结构有六种，包括：Number(数值), String(字符串), List(列表), Tuple(元组), Dictionary(字典), Set(集合)\n",
    "\n",
    "|      | 有序 | 无序 |\n",
    "| ---- | ---- | ---- |\n",
    "| 可变 | List | Dictionary, Set |\n",
    "| 不可变 | String, Tuple | Number|\n",
    "\n",
    "## 3.Dictionary 与 Set"
   ]
  },
  {
   "cell_type": "code",
   "execution_count": 12,
   "metadata": {},
   "outputs": [
    {
     "name": "stdout",
     "output_type": "stream",
     "text": [
      "names['Michael'] =  95\n",
      "names['Adam'] =  88\n"
     ]
    }
   ],
   "source": [
    "# Python3 - Dictionary(字典)：Dictionary(字典)在其他语言中也称为map，使用键-值（key-value）存储，具有极快的查找速度。\n",
    "# 字典是无序的。字典的键是不可变且唯一的，因此可以使用字符串、整数等不可变的数据类型作为key；字典的值可以是任意类型。\n",
    "names = {'Michael': 95, \"Tracy\": 85, \"Bob\": 75}\n",
    "print(\"names['Michael'] = \", names['Michael'])\n",
    "\n",
    "names['Adam'] = 90\n",
    "names['Adam'] = 88          # 多次对一个key放入不同的value，后面的值会把前面的值冲掉\n",
    "print(\"names['Adam'] = \", names['Adam'])\n",
    "\n",
    "# dict有以下几个特点：\n",
    "# 1)查找和插入的速度极快，不会随着key的增加而变慢；\n",
    "# 2)需要占用大量的内存，内存浪费多。\n",
    "\n",
    "# list与dict相反：\n",
    "# 1)查找和插入的时间随着元素的增加而增加；\n",
    "# 2)占用空间小，浪费内存很少。"
   ]
  },
  {
   "cell_type": "code",
   "execution_count": 6,
   "metadata": {},
   "outputs": [
    {
     "name": "stdout",
     "output_type": "stream",
     "text": [
      "dict.get(3) =  three\n",
      "dict.get(3) =  None\n",
      "dict.items() =  dict_items([(1, 'one'), (2, 'two'), (3, 'three')])\n",
      "dict.keys() =  dict_keys([1, 2, 3])\n",
      "dict.values() =  dict_values(['one', 'two', 'three'])\n",
      "d =  {1: 'one', 2: 'two', 3: 'three', 4: 'four'}\n",
      "d =  {1: 'one', 2: 'two', 3: 'three', 4: 'IV'}\n",
      "d.update(d2) =  {1: 'I', 2: 'II', 3: 'III', 4: 'IV', 5: 'V'}\n",
      "d.pop(4) =  {1: 'I', 2: 'II', 3: 'III', 5: 'V'}\n",
      "d.popitem() =  {1: 'I', 2: 'II', 3: 'III'}\n",
      "d.clear() =  {}\n"
     ]
    },
    {
     "data": {
      "text/plain": [
       "['__class__',\n",
       " '__contains__',\n",
       " '__delattr__',\n",
       " '__delitem__',\n",
       " '__dir__',\n",
       " '__doc__',\n",
       " '__eq__',\n",
       " '__format__',\n",
       " '__ge__',\n",
       " '__getattribute__',\n",
       " '__getitem__',\n",
       " '__gt__',\n",
       " '__hash__',\n",
       " '__init__',\n",
       " '__init_subclass__',\n",
       " '__iter__',\n",
       " '__le__',\n",
       " '__len__',\n",
       " '__lt__',\n",
       " '__ne__',\n",
       " '__new__',\n",
       " '__reduce__',\n",
       " '__reduce_ex__',\n",
       " '__repr__',\n",
       " '__reversed__',\n",
       " '__setattr__',\n",
       " '__setitem__',\n",
       " '__sizeof__',\n",
       " '__str__',\n",
       " '__subclasshook__',\n",
       " 'clear',\n",
       " 'copy',\n",
       " 'fromkeys',\n",
       " 'get',\n",
       " 'items',\n",
       " 'keys',\n",
       " 'pop',\n",
       " 'popitem',\n",
       " 'setdefault',\n",
       " 'update',\n",
       " 'values']"
      ]
     },
     "execution_count": 6,
     "metadata": {},
     "output_type": "execute_result"
    }
   ],
   "source": [
    "# 字典的常用操作\n",
    "d = {1:'one',2:'two',3:'three'}\n",
    "print(\"dict.get(3) = \", d.get(3))           # 根据键获取值\n",
    "print(\"dict.get(3) = \", d.get(7))           # 根据键获取值，键不存在时返回默认值\n",
    "print(\"dict.items() = \", d.items())         # 返回一个包含所有（键,值）元组的列表\n",
    "print(\"dict.keys() = \", d.keys())           # 返回一个所有键组成的列表\n",
    "print(\"dict.values() = \", d.values())       # 返回一个所有值组成的列表\n",
    "d[4] = 'four'                               # 直接通过赋值的方式增加键值对\n",
    "print(\"d = \", d)                            \n",
    "d[4] = 'IV'                                 # 增加键值对时，如果key已存在，则修改现有key的值\n",
    "print(\"d = \", d)                            \n",
    "d2 = {1:'I',2:'II',3:'III',5:'V'}\n",
    "d.update(d2)                                # 使用字典d2对字典d进行更新，如果d2中的key不存在，则新增到d中\n",
    "print(\"d.update(d2) = \", d)      \n",
    "d.pop(4)                                    # 删除key及对应的值\n",
    "print(\"d.pop(4) = \", d)                     \n",
    "d.popitem()                                 # 随机删除一个键值对\n",
    "print(\"d.popitem() = \", d)\n",
    "d.clear()                                   # 清空字典。删除字典中的数据，但该字典并未删除。\n",
    "print(\"d.clear() = \", d)\n",
    "\n",
    "# dir：查看对象的内置方法和属性\n",
    "dir(d)"
   ]
  },
  {
   "cell_type": "code",
   "execution_count": 23,
   "metadata": {},
   "outputs": [
    {
     "name": "stdout",
     "output_type": "stream",
     "text": [
      "{2, 3}\n",
      "{1, 4}\n",
      "{1, 2, 3, 4}\n",
      "{1}\n"
     ]
    }
   ],
   "source": [
    "# Python3 - Set(集合)：集合中的元素是唯一的，重复的元素会被删除。\n",
    "\n",
    "\n",
    "# 集合可以看成数学意义上的无序和无重复元素的集合，因此可以对两个集合可以做数学意义上的交集、并集等操作\n",
    "s1 = set([1, 2, 3])\n",
    "s2 = set([2, 3, 4])\n",
    "print(s1 & s2)          # 输出两个集合相同的元素，即取s1与s2的交集\n",
    "print(s1 ^ s2)          # 输出两个集合不同的元素\n",
    "print(s1 | s2)          # 输出两个集合全部的元素（重复的删除），即取s1与s2的并集\n",
    "print(s1 - s2)          # 输出集合s1包含，而集合s2中不包含的元素"
   ]
  },
  {
   "cell_type": "code",
   "execution_count": 5,
   "metadata": {},
   "outputs": [
    {
     "name": "stdout",
     "output_type": "stream",
     "text": [
      "s3.add(7) =  {1, 2, 3, 4, 5, 6, 7, 8, 9}\n",
      "s3.add(0) =  {0, 1, 2, 3, 4, 5, 6, 7, 8, 9}\n",
      "s3.update({3,10}) =  {0, 1, 2, 3, 4, 5, 6, 7, 8, 9, 10}\n",
      "s3.remove(4) =  {0, 1, 2, 3, 5, 6, 7, 8, 9, 10}\n",
      "s3.discard(2) =  {0, 1, 3, 5, 6, 7, 8, 9, 10}\n",
      "s3.pop() =  {1, 3, 5, 6, 7, 8, 9, 10}\n",
      "s3.clear() =  set()\n"
     ]
    },
    {
     "data": {
      "text/plain": [
       "['__and__',\n",
       " '__class__',\n",
       " '__contains__',\n",
       " '__delattr__',\n",
       " '__dir__',\n",
       " '__doc__',\n",
       " '__eq__',\n",
       " '__format__',\n",
       " '__ge__',\n",
       " '__getattribute__',\n",
       " '__gt__',\n",
       " '__hash__',\n",
       " '__iand__',\n",
       " '__init__',\n",
       " '__init_subclass__',\n",
       " '__ior__',\n",
       " '__isub__',\n",
       " '__iter__',\n",
       " '__ixor__',\n",
       " '__le__',\n",
       " '__len__',\n",
       " '__lt__',\n",
       " '__ne__',\n",
       " '__new__',\n",
       " '__or__',\n",
       " '__rand__',\n",
       " '__reduce__',\n",
       " '__reduce_ex__',\n",
       " '__repr__',\n",
       " '__ror__',\n",
       " '__rsub__',\n",
       " '__rxor__',\n",
       " '__setattr__',\n",
       " '__sizeof__',\n",
       " '__str__',\n",
       " '__sub__',\n",
       " '__subclasshook__',\n",
       " '__xor__',\n",
       " 'add',\n",
       " 'clear',\n",
       " 'copy',\n",
       " 'difference',\n",
       " 'difference_update',\n",
       " 'discard',\n",
       " 'intersection',\n",
       " 'intersection_update',\n",
       " 'isdisjoint',\n",
       " 'issubset',\n",
       " 'issuperset',\n",
       " 'pop',\n",
       " 'remove',\n",
       " 'symmetric_difference',\n",
       " 'symmetric_difference_update',\n",
       " 'union',\n",
       " 'update']"
      ]
     },
     "execution_count": 5,
     "metadata": {},
     "output_type": "execute_result"
    }
   ],
   "source": [
    "# 集合的常用操作\n",
    "l = [7, 1, 3, 5, 4, 2, 9, 6, 8]     # 列表l是有序排列的\n",
    "s3 = set(l)                         # 集合s3是无序的\n",
    "s3.add(7)                           # 添加元素，如果元素已存在，则不会进行任何操作\n",
    "print(\"s3.add(7) = \", s3)\n",
    "s3.add(0)                           # 添加元素后，s3是无序的，自动排序的是其中的列表l\n",
    "print(\"s3.add(0) = \", s3)\n",
    "s3.update({3,10})                   # 添加对象可以是列表、字典等，且可以是多个，用逗号隔开\n",
    "print(\"s3.update({3,10}) = \", s3)   \n",
    "s3.remove(4)                        # 移除元素，如果元素不存在时会报错\n",
    "print(\"s3.remove(4) = \", s3)        \n",
    "s3.discard(2)                       # 删除元素，如果元素不存在时会报错\n",
    "print(\"s3.discard(2) = \", s3)\n",
    "s3.pop()                            # 随机删除一个元素\n",
    "print(\"s3.pop() = \", s3)\n",
    "s3.clear()                          # 清空集合。只清空集合中的数据，但该集合s3并未删除。\n",
    "print(\"s3.clear() = \", s3)\n",
    "\n",
    "# dir：查看对象的内置方法和属性\n",
    "dir(s3)\n",
    "\n",
    "# set和dict的唯一区别仅在于没有存储对应的value。\n",
    "# 但是，set的原理和dict一样，所以，同样不可以放入可变对象，因为无法判断两个可变对象是否相等，也就无法保证set内部“不会有重复元素”。"
   ]
  },
  {
   "cell_type": "code",
   "execution_count": 4,
   "metadata": {},
   "outputs": [],
   "source": [
    "# 赋值、浅拷贝、深拷贝\n",
    "a = ['a','b',['c','d']]\n",
    "b = a                       # 赋值，两个变量通知指向了列表的内存地址\n",
    "c = a.copy()                # 浅拷贝，复制a中列表数据的表面数据，里面嵌套结构的数据依然只是地址引用\n",
    "import copy\n",
    "e = copy.deepcopy(a)        # 深拷贝，完全的数据拷贝"
   ]
  }
 ],
 "metadata": {
  "kernelspec": {
   "display_name": "ia_env",
   "language": "python",
   "name": "python3"
  },
  "language_info": {
   "codemirror_mode": {
    "name": "ipython",
    "version": 3
   },
   "file_extension": ".py",
   "mimetype": "text/x-python",
   "name": "python",
   "nbconvert_exporter": "python",
   "pygments_lexer": "ipython3",
   "version": "3.10.13"
  }
 },
 "nbformat": 4,
 "nbformat_minor": 2
}

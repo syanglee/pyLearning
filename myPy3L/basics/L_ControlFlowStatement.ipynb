{
 "cells": [
  {
   "cell_type": "markdown",
   "metadata": {},
   "source": [
    "# Python 的控制流语句\n",
    "\n",
    "## 1.条件语句 IF\n",
    "```python\n",
    "if 条件表达式1:\n",
    "    # 条件1成立时执行的代码\n",
    "elif 条件表达式2:\n",
    "    # 条件2成立时执行的代码\n",
    "else:\n",
    "    # 条件1、2都不成立时执行的代码\n",
    "```"
   ]
  },
  {
   "cell_type": "code",
   "execution_count": 6,
   "metadata": {},
   "outputs": [
    {
     "name": "stdout",
     "output_type": "stream",
     "text": [
      "if 0 条件不成立，else 条件成立\n"
     ]
    }
   ],
   "source": [
    "# 在Python中，默认True = 1, False = 0\n",
    "if 0:\n",
    "    print('条件不成立')\n",
    "else: \n",
    "    print('if 0 条件不成立，else 条件成立')"
   ]
  },
  {
   "cell_type": "code",
   "execution_count": 7,
   "metadata": {},
   "outputs": [
    {
     "name": "stdout",
     "output_type": "stream",
     "text": [
      "if hello world条件成立\n"
     ]
    }
   ],
   "source": [
    "# 在Python中，if后只要不是None，任意字符串都默认为True\n",
    "if 'hello world.':\n",
    "    print('if hello world条件成立')"
   ]
  },
  {
   "cell_type": "code",
   "execution_count": 8,
   "metadata": {},
   "outputs": [
    {
     "name": "stdout",
     "output_type": "stream",
     "text": [
      "if None条件不成立，else条件成立\n"
     ]
    }
   ],
   "source": [
    "if None:\n",
    "    print('条件不成立')\n",
    "else:\n",
    "    print('if None条件不成立，else条件成立')"
   ]
  },
  {
   "cell_type": "markdown",
   "metadata": {},
   "source": [
    "## 2.循环语句 for\n",
    "```python\n",
    "# for 循环，迭代一个序列\n",
    "for 变量 in 可迭代对象:\n",
    "    # 循环语句块\n",
    "else:\n",
    "    # 语句块\n",
    "```"
   ]
  },
  {
   "cell_type": "code",
   "execution_count": 13,
   "metadata": {},
   "outputs": [
    {
     "name": "stdout",
     "output_type": "stream",
     "text": [
      "1\n",
      "2\n",
      "3\n",
      "4\n",
      "5\n",
      "6\n",
      "for循环结束 6\n"
     ]
    }
   ],
   "source": [
    "for l in range(1,7,1):\n",
    "    print(l)\n",
    "else:\n",
    "    print('for循环结束', l)"
   ]
  },
  {
   "cell_type": "markdown",
   "metadata": {},
   "source": [
    "## 3.循环语句 while\n",
    "```python\n",
    "# while 循环，条件满足时执行循环语句块\n",
    "while 条件表达式:\n",
    "    # 循环语句块\n",
    "else:\n",
    "    # 语句块\n",
    "```"
   ]
  },
  {
   "cell_type": "code",
   "execution_count": 12,
   "metadata": {},
   "outputs": [
    {
     "name": "stdout",
     "output_type": "stream",
     "text": [
      "5\n",
      "4\n",
      "3\n",
      "2\n",
      "while循环结束 i =  1\n"
     ]
    }
   ],
   "source": [
    "i = 7\n",
    "while i > 1:\n",
    "    print(i)\n",
    "    i = i - 1\n",
    "else:\n",
    "    print('while循环结束 i = ', i)"
   ]
  },
  {
   "cell_type": "code",
   "execution_count": 25,
   "metadata": {},
   "outputs": [
    {
     "name": "stdout",
     "output_type": "stream",
     "text": [
      "while循环 7\n",
      "while循环 6\n",
      "while循环 5\n",
      "while循环 3\n",
      "while循环 2\n",
      "while循环 1\n",
      "while循环结束，i =  0\n"
     ]
    }
   ],
   "source": [
    "i = 7\n",
    "while 1:    \n",
    "    if i == 4:       \n",
    "        i = i - 1  \n",
    "        continue                            # continue跳过本次循环\n",
    "    elif i == 0:\n",
    "        print('while循环结束，i = ', i)\n",
    "        break                               # break终止当前大循环\n",
    "    else:\n",
    "        print('while循环', i)\n",
    "        i = i - 1 "
   ]
  }
 ],
 "metadata": {
  "kernelspec": {
   "display_name": "pytorch_env",
   "language": "python",
   "name": "python3"
  },
  "language_info": {
   "codemirror_mode": {
    "name": "ipython",
    "version": 3
   },
   "file_extension": ".py",
   "mimetype": "text/x-python",
   "name": "python",
   "nbconvert_exporter": "python",
   "pygments_lexer": "ipython3",
   "version": "3.8.17"
  },
  "orig_nbformat": 4
 },
 "nbformat": 4,
 "nbformat_minor": 2
}

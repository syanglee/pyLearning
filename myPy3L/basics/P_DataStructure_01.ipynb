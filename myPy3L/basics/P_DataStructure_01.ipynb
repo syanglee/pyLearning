{
 "cells": [
  {
   "cell_type": "code",
   "execution_count": 2,
   "metadata": {},
   "outputs": [
    {
     "name": "stdout",
     "output_type": "stream",
     "text": [
      "0\n",
      "2\n",
      "4\n",
      "6\n",
      "8\n"
     ]
    }
   ],
   "source": [
    "# Iteration \n",
    "nlist = [1, 3, 5, 7, 9]\n",
    "for key in nlist:\n",
    "    print(key - 1)"
   ]
  },
  {
   "cell_type": "code",
   "execution_count": 13,
   "metadata": {},
   "outputs": [
    {
     "data": {
      "text/plain": [
       "['__call__',\n",
       " '__class__',\n",
       " '__delattr__',\n",
       " '__dir__',\n",
       " '__doc__',\n",
       " '__eq__',\n",
       " '__format__',\n",
       " '__ge__',\n",
       " '__getattribute__',\n",
       " '__gt__',\n",
       " '__hash__',\n",
       " '__init__',\n",
       " '__init_subclass__',\n",
       " '__le__',\n",
       " '__lt__',\n",
       " '__module__',\n",
       " '__name__',\n",
       " '__ne__',\n",
       " '__new__',\n",
       " '__qualname__',\n",
       " '__reduce__',\n",
       " '__reduce_ex__',\n",
       " '__repr__',\n",
       " '__self__',\n",
       " '__setattr__',\n",
       " '__sizeof__',\n",
       " '__str__',\n",
       " '__subclasshook__',\n",
       " '__text_signature__']"
      ]
     },
     "execution_count": 13,
     "metadata": {},
     "output_type": "execute_result"
    }
   ],
   "source": [
    "# dir：查看对象的内置方法和属性\n",
    "dir(print)"
   ]
  },
  {
   "cell_type": "code",
   "execution_count": 11,
   "metadata": {},
   "outputs": [
    {
     "name": "stdout",
     "output_type": "stream",
     "text": [
      "Help on built-in function print in module builtins:\n",
      "\n",
      "print(...)\n",
      "    print(value, ..., sep=' ', end='\\n', file=sys.stdout, flush=False)\n",
      "    \n",
      "    Prints the values to a stream, or to sys.stdout by default.\n",
      "    Optional keyword arguments:\n",
      "    file:  a file-like object (stream); defaults to the current sys.stdout.\n",
      "    sep:   string inserted between values, default a space.\n",
      "    end:   string appended after the last value, default a newline.\n",
      "    flush: whether to forcibly flush the stream.\n",
      "\n"
     ]
    }
   ],
   "source": [
    "# 显示对象的帮助信息\n",
    "help(print)"
   ]
  },
  {
   "cell_type": "code",
   "execution_count": 12,
   "metadata": {},
   "outputs": [
    {
     "data": {
      "text/plain": [
       "2009804199856"
      ]
     },
     "execution_count": 12,
     "metadata": {},
     "output_type": "execute_result"
    }
   ],
   "source": [
    "# 查看对象内存地址\n",
    "id(print)"
   ]
  },
  {
   "cell_type": "code",
   "execution_count": 3,
   "metadata": {},
   "outputs": [
    {
     "name": "stdout",
     "output_type": "stream",
     "text": [
      "['hello', 'world', 'ibm', 'apple']\n"
     ]
    }
   ],
   "source": [
    "# List generation： 将List中的字母都转换为小写\n",
    "l = ['Hello', 'World', 'IBM', 'Apple']\n",
    "print([s.lower() for s in l])"
   ]
  },
  {
   "cell_type": "code",
   "execution_count": 1,
   "metadata": {},
   "outputs": [
    {
     "name": "stdout",
     "output_type": "stream",
     "text": [
      "======= called me  1\n",
      "call arr[] =  [3, 0, 8, 5, 2, 4, 1, 6, 7, 9]\n",
      "left: Numbers less than  3\n",
      "[0, 2, 1]\n",
      "right: Numbers greater than  3\n",
      "[8, 5, 4, 6, 7, 9]\n",
      "pivot =  3\n",
      "======= called me  2\n",
      "call arr[] =  [0, 2, 1]\n",
      "left: Numbers less than  0\n",
      "[]\n",
      "right: Numbers greater than  0\n",
      "[2, 1]\n",
      "pivot =  0\n",
      "======= called me  3\n",
      "call arr[] =  [2, 1]\n",
      "left: Numbers less than  2\n",
      "[1]\n",
      "right: Numbers greater than  2\n",
      "[]\n",
      "pivot =  2\n",
      "======= called me  2\n",
      "call arr[] =  [8, 5, 4, 6, 7, 9]\n",
      "left: Numbers less than  8\n",
      "[5, 4, 6, 7]\n",
      "right: Numbers greater than  8\n",
      "[9]\n",
      "pivot =  8\n",
      "======= called me  3\n",
      "call arr[] =  [5, 4, 6, 7]\n",
      "left: Numbers less than  5\n",
      "[4]\n",
      "right: Numbers greater than  5\n",
      "[6, 7]\n",
      "pivot =  5\n",
      "======= called me  4\n",
      "call arr[] =  [6, 7]\n",
      "left: Numbers less than  6\n",
      "[]\n",
      "right: Numbers greater than  6\n",
      "[7]\n",
      "pivot =  6\n",
      "[0, 1, 2, 3, 4, 5, 6, 7, 8, 9]\n"
     ]
    }
   ],
   "source": [
    "# a simple implementation of quicksort in Python\n",
    "def quicksort(arr,cnt):  \n",
    "    if len(arr) <= 1:  \n",
    "        return arr  \n",
    "    else:  \n",
    "        print('======= called me ', cnt)\n",
    "        print('call arr[] = ', arr)\n",
    "        pivot = arr[0]  \n",
    "        left = [x for x in arr[1:] if x <= pivot]  \n",
    "        print('left: Numbers less than ', pivot)\n",
    "        print(left)\n",
    "        right = [x for x in arr[1:] if x > pivot]  \n",
    "        print('right: Numbers greater than ', pivot)\n",
    "        print(right)\n",
    "        print('pivot = ', pivot)        \n",
    "        cnt = cnt + 1\n",
    "        return quicksort(left, cnt) + [pivot] + quicksort(right, cnt)\n",
    "\n",
    "arr = [3, 0, 8, 5, 2, 4, 1, 6, 7, 9]  \n",
    "sorted_arr = quicksort(arr,cnt=1)  \n",
    "print(sorted_arr)"
   ]
  }
 ],
 "metadata": {
  "kernelspec": {
   "display_name": "crawler_env",
   "language": "python",
   "name": "python3"
  },
  "language_info": {
   "codemirror_mode": {
    "name": "ipython",
    "version": 3
   },
   "file_extension": ".py",
   "mimetype": "text/x-python",
   "name": "python",
   "nbconvert_exporter": "python",
   "pygments_lexer": "ipython3",
   "version": "3.8.17"
  },
  "orig_nbformat": 4
 },
 "nbformat": 4,
 "nbformat_minor": 2
}
